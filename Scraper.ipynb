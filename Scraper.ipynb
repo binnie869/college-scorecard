{
 "cells": [
  {
   "cell_type": "code",
   "execution_count": 2,
   "metadata": {
    "collapsed": false
   },
   "outputs": [],
   "source": [
    "from bs4 import BeautifulSoup\n",
    "import urllib"
   ]
  },
  {
   "cell_type": "code",
   "execution_count": 115,
   "metadata": {
    "collapsed": false
   },
   "outputs": [],
   "source": [
    "url= 'http://www.payscale.com/college-roi?page=86'\n",
    "page = urllib.request.urlopen(url)\n",
    "soup = BeautifulSoup(page.read())"
   ]
  },
  {
   "cell_type": "code",
   "execution_count": 119,
   "metadata": {
    "collapsed": false
   },
   "outputs": [],
   "source": [
    "data = []\n",
    "table = soup.find('table', { \"class\" : \"table\" })\n",
    "table_body = table.find('tbody')\n",
    "rows = table_body.find_all('tr')\n",
    "for row in rows:\n",
    "    cols = row.find_all('td')\n",
    "#     cols = [col for col in cols if len(col) == 2]\n",
    "    cols = [ele.text.strip() for ele in cols]\n",
    "#   cols = [col for col in cols if len(col) == 2]\n",
    "    if len(cols) < 3:\n",
    "        continue\n",
    "    data.append([ele for ele in cols if ele]) # Get rid of empty value"
   ]
  },
  {
   "cell_type": "code",
   "execution_count": 120,
   "metadata": {
    "collapsed": false
   },
   "outputs": [],
   "source": [
    "header = []\n",
    "table = soup.find('table')\n",
    "table_header = table.find('thead')\n",
    "\n",
    "rows = table_header.find_all('tr')\n",
    "for row in rows:\n",
    "    cols = row.find_all('th')\n",
    "    cols = [ele.text.strip() for ele in cols]\n",
    "    header.append([ele for ele in cols if ele]) # Get rid of empty values"
   ]
  },
  {
   "cell_type": "code",
   "execution_count": null,
   "metadata": {
    "collapsed": true
   },
   "outputs": [],
   "source": [
    "data_final = []"
   ]
  },
  {
   "cell_type": "code",
   "execution_count": 136,
   "metadata": {
    "collapsed": false
   },
   "outputs": [
    {
     "name": "stdout",
     "output_type": "stream",
     "text": [
      "1\n",
      "2\n",
      "3\n",
      "4\n",
      "5\n"
     ]
    }
   ],
   "source": [
    "url= 'http://www.payscale.com/college-roi?page='+str(1)\n",
    "for i in range(1,6):\n",
    "    print(i)"
   ]
  },
  {
   "cell_type": "markdown",
   "metadata": {},
   "source": [
    "### Scraping all 86 pages"
   ]
  },
  {
   "cell_type": "code",
   "execution_count": 151,
   "metadata": {
    "collapsed": false
   },
   "outputs": [],
   "source": [
    "for i in range(1, 87):\n",
    "    url= 'http://www.payscale.com/college-roi?page='+str(i)\n",
    "    page = urllib.request.urlopen(url)\n",
    "    soup = BeautifulSoup(page.read())\n",
    "\n",
    "    data = []\n",
    "    table = soup.find('table', { \"class\" : \"table\" })\n",
    "    table_body = table.find('tbody')\n",
    "    rows = table_body.find_all('tr')\n",
    "    for row in rows:\n",
    "        cols = row.find_all('td')\n",
    "    #     cols = [col for col in cols if len(col) == 2]\n",
    "        cols = [ele.text.strip() for ele in cols]\n",
    "    #   cols = [col for col in cols if len(col) == 2]\n",
    "        if len(cols) < 3:\n",
    "            continue\n",
    "        data.append([ele for ele in cols if ele]) # Get rid of empty value\n",
    "\n",
    "    for i in range(len(data)):\n",
    "                    data_final.append((data[i][0].split()[0], data[i][1], data[i][3].strip('%').replace('<',''), data[i][5].strip(\"%\").replace('<', ''), data[i][7].strip('$').replace(',', ''), data[i][9].strip('$').replace(',', ''), data[i][11].strip('$').replace(',', ''), data[i][13].strip(\"%\"), data[i][14].split()[0], data[i][15].strip('$').replace(',', ''), data[i][16].strip(\"%\")))"
   ]
  },
  {
   "cell_type": "code",
   "execution_count": 152,
   "metadata": {
    "collapsed": true
   },
   "outputs": [],
   "source": [
    "import pandas as pd\n",
    "df = pd.DataFrame(data_final)"
   ]
  },
  {
   "cell_type": "code",
   "execution_count": 153,
   "metadata": {
    "collapsed": false
   },
   "outputs": [
    {
     "data": {
      "text/html": [
       "<div>\n",
       "<table border=\"1\" class=\"dataframe\">\n",
       "  <thead>\n",
       "    <tr style=\"text-align: right;\">\n",
       "      <th></th>\n",
       "      <th>0</th>\n",
       "      <th>1</th>\n",
       "      <th>2</th>\n",
       "      <th>3</th>\n",
       "      <th>4</th>\n",
       "      <th>5</th>\n",
       "      <th>6</th>\n",
       "      <th>7</th>\n",
       "      <th>8</th>\n",
       "      <th>9</th>\n",
       "      <th>10</th>\n",
       "    </tr>\n",
       "  </thead>\n",
       "  <tbody>\n",
       "    <tr>\n",
       "      <th>0</th>\n",
       "      <td>-</td>\n",
       "      <td>University of Phoenix - Phoenix, AZ(Private)</td>\n",
       "      <td>N/A</td>\n",
       "      <td>N/A</td>\n",
       "      <td>N/A</td>\n",
       "      <td>N/A</td>\n",
       "      <td>N/A</td>\n",
       "      <td>16</td>\n",
       "      <td>6</td>\n",
       "      <td>33520</td>\n",
       "      <td>91.0</td>\n",
       "    </tr>\n",
       "    <tr>\n",
       "      <th>1</th>\n",
       "      <td>-</td>\n",
       "      <td>Cleary University(Private)</td>\n",
       "      <td>N/A</td>\n",
       "      <td>N/A</td>\n",
       "      <td>N/A</td>\n",
       "      <td>N/A</td>\n",
       "      <td>N/A</td>\n",
       "      <td>44</td>\n",
       "      <td>4</td>\n",
       "      <td>24360</td>\n",
       "      <td>70.0</td>\n",
       "    </tr>\n",
       "    <tr>\n",
       "      <th>2</th>\n",
       "      <td>-</td>\n",
       "      <td>ITT Technical Institute - San Diego, CA(Private)</td>\n",
       "      <td>N/A</td>\n",
       "      <td>N/A</td>\n",
       "      <td>N/A</td>\n",
       "      <td>N/A</td>\n",
       "      <td>N/A</td>\n",
       "      <td>27</td>\n",
       "      <td>6</td>\n",
       "      <td>34120</td>\n",
       "      <td>70.0</td>\n",
       "    </tr>\n",
       "    <tr>\n",
       "      <th>3</th>\n",
       "      <td>-</td>\n",
       "      <td>Wilmington University(Private)</td>\n",
       "      <td>N/A</td>\n",
       "      <td>N/A</td>\n",
       "      <td>N/A</td>\n",
       "      <td>N/A</td>\n",
       "      <td>N/A</td>\n",
       "      <td>39</td>\n",
       "      <td>4</td>\n",
       "      <td>12680</td>\n",
       "      <td>73.0</td>\n",
       "    </tr>\n",
       "    <tr>\n",
       "      <th>4</th>\n",
       "      <td>-</td>\n",
       "      <td>Thomas Edison State College(In-State)</td>\n",
       "      <td>N/A</td>\n",
       "      <td>N/A</td>\n",
       "      <td>N/A</td>\n",
       "      <td>N/A</td>\n",
       "      <td>N/A</td>\n",
       "      <td>0</td>\n",
       "      <td>N/A</td>\n",
       "      <td>0</td>\n",
       "      <td>0.0</td>\n",
       "    </tr>\n",
       "  </tbody>\n",
       "</table>\n",
       "</div>"
      ],
      "text/plain": [
       "  0                                                 1    2    3    4    5   \\\n",
       "0  -      University of Phoenix - Phoenix, AZ(Private)  N/A  N/A  N/A  N/A   \n",
       "1  -                        Cleary University(Private)  N/A  N/A  N/A  N/A   \n",
       "2  -  ITT Technical Institute - San Diego, CA(Private)  N/A  N/A  N/A  N/A   \n",
       "3  -                    Wilmington University(Private)  N/A  N/A  N/A  N/A   \n",
       "4  -             Thomas Edison State College(In-State)  N/A  N/A  N/A  N/A   \n",
       "\n",
       "    6   7    8      9     10  \n",
       "0  N/A  16    6  33520  91.0  \n",
       "1  N/A  44    4  24360  70.0  \n",
       "2  N/A  27    6  34120  70.0  \n",
       "3  N/A  39    4  12680  73.0  \n",
       "4  N/A   0  N/A      0   0.0  "
      ]
     },
     "execution_count": 153,
     "metadata": {},
     "output_type": "execute_result"
    }
   ],
   "source": [
    "df.head()"
   ]
  },
  {
   "cell_type": "code",
   "execution_count": 154,
   "metadata": {
    "collapsed": false
   },
   "outputs": [],
   "source": [
    "df.columns = ['rank', 'name', 'Anual%_ROI_without_FA', 'Anual%_ROI_with_FA', '20yrnet_ROI_without_FA', '20yrnet_ROI_with_FA', 'Total_4yr_cost', 'grad_rate', 'years_to_grad', 'loan_amnt', '%_GrantMoney_Received']"
   ]
  },
  {
   "cell_type": "code",
   "execution_count": 155,
   "metadata": {
    "collapsed": false
   },
   "outputs": [
    {
     "data": {
      "text/html": [
       "<div>\n",
       "<table border=\"1\" class=\"dataframe\">\n",
       "  <thead>\n",
       "    <tr style=\"text-align: right;\">\n",
       "      <th></th>\n",
       "      <th>rank</th>\n",
       "      <th>name</th>\n",
       "      <th>Anual%_ROI_without_FA</th>\n",
       "      <th>Anual%_ROI_with_FA</th>\n",
       "      <th>20yrnet_ROI_without_FA</th>\n",
       "      <th>20yrnet_ROI_with_FA</th>\n",
       "      <th>Total_4yr_cost</th>\n",
       "      <th>grad_rate</th>\n",
       "      <th>years_to_grad</th>\n",
       "      <th>loan_amnt</th>\n",
       "      <th>%_GrantMoney_Received</th>\n",
       "    </tr>\n",
       "  </thead>\n",
       "  <tbody>\n",
       "    <tr>\n",
       "      <th>0</th>\n",
       "      <td>-</td>\n",
       "      <td>University of Phoenix - Phoenix, AZ(Private)</td>\n",
       "      <td>N/A</td>\n",
       "      <td>N/A</td>\n",
       "      <td>N/A</td>\n",
       "      <td>N/A</td>\n",
       "      <td>N/A</td>\n",
       "      <td>16</td>\n",
       "      <td>6</td>\n",
       "      <td>33520</td>\n",
       "      <td>91.0</td>\n",
       "    </tr>\n",
       "    <tr>\n",
       "      <th>1</th>\n",
       "      <td>-</td>\n",
       "      <td>Cleary University(Private)</td>\n",
       "      <td>N/A</td>\n",
       "      <td>N/A</td>\n",
       "      <td>N/A</td>\n",
       "      <td>N/A</td>\n",
       "      <td>N/A</td>\n",
       "      <td>44</td>\n",
       "      <td>4</td>\n",
       "      <td>24360</td>\n",
       "      <td>70.0</td>\n",
       "    </tr>\n",
       "    <tr>\n",
       "      <th>2</th>\n",
       "      <td>-</td>\n",
       "      <td>ITT Technical Institute - San Diego, CA(Private)</td>\n",
       "      <td>N/A</td>\n",
       "      <td>N/A</td>\n",
       "      <td>N/A</td>\n",
       "      <td>N/A</td>\n",
       "      <td>N/A</td>\n",
       "      <td>27</td>\n",
       "      <td>6</td>\n",
       "      <td>34120</td>\n",
       "      <td>70.0</td>\n",
       "    </tr>\n",
       "    <tr>\n",
       "      <th>3</th>\n",
       "      <td>-</td>\n",
       "      <td>Wilmington University(Private)</td>\n",
       "      <td>N/A</td>\n",
       "      <td>N/A</td>\n",
       "      <td>N/A</td>\n",
       "      <td>N/A</td>\n",
       "      <td>N/A</td>\n",
       "      <td>39</td>\n",
       "      <td>4</td>\n",
       "      <td>12680</td>\n",
       "      <td>73.0</td>\n",
       "    </tr>\n",
       "    <tr>\n",
       "      <th>4</th>\n",
       "      <td>-</td>\n",
       "      <td>Thomas Edison State College(In-State)</td>\n",
       "      <td>N/A</td>\n",
       "      <td>N/A</td>\n",
       "      <td>N/A</td>\n",
       "      <td>N/A</td>\n",
       "      <td>N/A</td>\n",
       "      <td>0</td>\n",
       "      <td>N/A</td>\n",
       "      <td>0</td>\n",
       "      <td>0.0</td>\n",
       "    </tr>\n",
       "  </tbody>\n",
       "</table>\n",
       "</div>"
      ],
      "text/plain": [
       "  rank                                              name  \\\n",
       "0    -      University of Phoenix - Phoenix, AZ(Private)   \n",
       "1    -                        Cleary University(Private)   \n",
       "2    -  ITT Technical Institute - San Diego, CA(Private)   \n",
       "3    -                    Wilmington University(Private)   \n",
       "4    -             Thomas Edison State College(In-State)   \n",
       "\n",
       "  Anual%_ROI_without_FA Anual%_ROI_with_FA 20yrnet_ROI_without_FA  \\\n",
       "0                   N/A                N/A                    N/A   \n",
       "1                   N/A                N/A                    N/A   \n",
       "2                   N/A                N/A                    N/A   \n",
       "3                   N/A                N/A                    N/A   \n",
       "4                   N/A                N/A                    N/A   \n",
       "\n",
       "  20yrnet_ROI_with_FA Total_4yr_cost grad_rate years_to_grad loan_amnt  \\\n",
       "0                 N/A            N/A        16             6     33520   \n",
       "1                 N/A            N/A        44             4     24360   \n",
       "2                 N/A            N/A        27             6     34120   \n",
       "3                 N/A            N/A        39             4     12680   \n",
       "4                 N/A            N/A         0           N/A         0   \n",
       "\n",
       "  %_GrantMoney_Received  \n",
       "0                  91.0  \n",
       "1                  70.0  \n",
       "2                  70.0  \n",
       "3                  73.0  \n",
       "4                   0.0  "
      ]
     },
     "execution_count": 155,
     "metadata": {},
     "output_type": "execute_result"
    }
   ],
   "source": [
    "df.head()"
   ]
  },
  {
   "cell_type": "code",
   "execution_count": 156,
   "metadata": {
    "collapsed": true
   },
   "outputs": [],
   "source": [
    "df.to_csv('Pay_Scale_data.csv', index=False)"
   ]
  },
  {
   "cell_type": "code",
   "execution_count": null,
   "metadata": {
    "collapsed": true
   },
   "outputs": [],
   "source": []
  }
 ],
 "metadata": {
  "kernelspec": {
   "display_name": "Python 3",
   "language": "python",
   "name": "python3"
  },
  "language_info": {
   "codemirror_mode": {
    "name": "ipython",
    "version": 3
   },
   "file_extension": ".py",
   "mimetype": "text/x-python",
   "name": "python",
   "nbconvert_exporter": "python",
   "pygments_lexer": "ipython3",
   "version": "3.3.5"
  }
 },
 "nbformat": 4,
 "nbformat_minor": 0
}
